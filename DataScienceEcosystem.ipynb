{
  "nbformat": 4,
  "nbformat_minor": 0,
  "metadata": {
    "colab": {
      "provenance": []
    },
    "kernelspec": {
      "name": "python3",
      "display_name": "Python 3"
    },
    "language_info": {
      "name": "python"
    }
  },
  "cells": [
    {
      "cell_type": "markdown",
      "source": [
        "<h1> Data Science Tools and Ecosystem </h1>"
      ],
      "metadata": {
        "id": "PpHnH_aMjC9V"
      }
    },
    {
      "cell_type": "markdown",
      "source": [
        "In this notebook, Data Science Tools and Ecosystem are summarized"
      ],
      "metadata": {
        "id": "h_yHQwQ8jQ1X"
      }
    },
    {
      "cell_type": "markdown",
      "source": [
        "Some of the popular languages that Data Scientists use are:\n",
        "1. Python\n",
        "2. R\n",
        "3. SQL\n",
        "4. Scala\n",
        "5. Java\n",
        "6. C++\n"
      ],
      "metadata": {
        "id": "J8T6cHMUjVok"
      }
    },
    {
      "cell_type": "markdown",
      "source": [
        "Some of the commonly used libraries used by Data Scientists include:\n",
        "\n",
        "1. pandas\n",
        "2. numPy\n",
        "3. matplotlib\n",
        "4. Seaborn\n",
        "5. Scikit-learn\n"
      ],
      "metadata": {
        "id": "4a5akZF1jX6Y"
      }
    },
    {
      "cell_type": "markdown",
      "source": [
        "|Data Science Tools|\n",
        "|------------------|\n",
        "|Anaconda          |\n",
        "|Jupyter Notebooks |\n",
        "|R Studio          |\n",
        "|Spyder            |\n",
        "|Zeppelin.         |\n"
      ],
      "metadata": {
        "id": "LOTq8lODjcIR"
      }
    },
    {
      "cell_type": "markdown",
      "source": [
        "<h3> Below are a few examples of evaluating arithmetic expressions in Python </h3>\n"
      ],
      "metadata": {
        "id": "eXwJu9MTje66"
      }
    },
    {
      "cell_type": "code",
      "execution_count": 1,
      "metadata": {
        "colab": {
          "base_uri": "https://localhost:8080/"
        },
        "id": "eDeItf8di-yE",
        "outputId": "84c85de5-0744-4bcc-9cfc-83d524256e5c"
      },
      "outputs": [
        {
          "output_type": "execute_result",
          "data": {
            "text/plain": [
              "17"
            ]
          },
          "metadata": {},
          "execution_count": 1
        }
      ],
      "source": [
        "(3*4)+5\n",
        "#This a simple arithmetic expression to mutiply then add integers"
      ]
    },
    {
      "cell_type": "code",
      "source": [
        "200/60\n",
        "#This will convert 200 minutes to hours by diving by 60"
      ],
      "metadata": {
        "colab": {
          "base_uri": "https://localhost:8080/"
        },
        "id": "f7pxkc80nRHZ",
        "outputId": "e7ca79ed-5eb9-4f95-ad5f-7298dd5bd552"
      },
      "execution_count": 5,
      "outputs": [
        {
          "output_type": "execute_result",
          "data": {
            "text/plain": [
              "3.3333333333333335"
            ]
          },
          "metadata": {},
          "execution_count": 5
        }
      ]
    },
    {
      "cell_type": "markdown",
      "source": [
        "**Objectives:**\n",
        "\n",
        "List popular languages for Data Science\n",
        "\n",
        "\n",
        "*   Python\n",
        "*   R\n",
        "*   SQL\n",
        "*   Scala\n",
        "*   Java\n",
        "*   C++\n"
      ],
      "metadata": {
        "id": "bzL_x7K6yFt9"
      }
    },
    {
      "cell_type": "markdown",
      "source": [
        "<h3> Author </h3>\n",
        "name: Nitin Dunday Mohan\n"
      ],
      "metadata": {
        "id": "42V-lJQcxICh"
      }
    }
  ]
}